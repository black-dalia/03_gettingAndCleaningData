{
  "nbformat": 4,
  "nbformat_minor": 0,
  "metadata": {
    "colab": {
      "name": "Untitled3.ipynb",
      "provenance": [],
      "mount_file_id": "176YhW4Vc6cTsQhuZ4HQMlO13m1F0YtlC",
      "authorship_tag": "ABX9TyMXzqUGHePnBNng0DhH1vOU",
      "include_colab_link": true
    },
    "kernelspec": {
      "name": "python3",
      "display_name": "Python 3"
    },
    "language_info": {
      "name": "python"
    },
    "accelerator": "GPU"
  },
  "cells": [
    {
      "cell_type": "markdown",
      "metadata": {
        "id": "view-in-github",
        "colab_type": "text"
      },
      "source": [
        "<a href=\"https://colab.research.google.com/github/black-dalia/03_gettingAndCleaningData/blob/main/Desiree_modelling.ipynb\" target=\"_parent\"><img src=\"https://colab.research.google.com/assets/colab-badge.svg\" alt=\"Open In Colab\"/></a>"
      ]
    },
    {
      "cell_type": "code",
      "execution_count": 1,
      "metadata": {
        "id": "_3kdtR_VIplf"
      },
      "outputs": [],
      "source": [
        "import pandas as pd\n",
        "from tensorflow.keras import models\n",
        "from tensorflow.keras import layers\n",
        "from tensorflow.keras import optimizers, metrics\n",
        "from tensorflow.keras.layers import Normalization\n",
        "from tensorflow.keras.callbacks import EarlyStopping\n",
        "from sklearn.preprocessing import RobustScaler\n",
        "import pandas as pd\n",
        "import numpy as np \n",
        "import math\n",
        "import matplotlib.pyplot as plt\n",
        "plt.style.use('ggplot')\n",
        "import seaborn as sns\n",
        "import datetime\n",
        "from datetime import date, timedelta\n",
        "#from clean import clean_all, get_data, get_bairros_data\n",
        "#from preproc import get_format, get_popfile, clean_pop_data, extract_ts\n",
        "idx = pd.IndexSlice"
      ]
    },
    {
      "cell_type": "code",
      "source": [
        "url = 'https://raw.githubusercontent.com/black-dalia/event-forecast-rio/modelling/preprocessed_data_1000.csv'"
      ],
      "metadata": {
        "id": "fr5-Eu65IsTw"
      },
      "execution_count": 2,
      "outputs": []
    },
    {
      "cell_type": "code",
      "source": [
        "preprocessed_data_1000 = pd.read_csv(url)"
      ],
      "metadata": {
        "id": "i9Gnf6lgLJ2s"
      },
      "execution_count": 3,
      "outputs": []
    },
    {
      "cell_type": "code",
      "source": [
        "# Preprocessing data\n",
        "def subsample_sequence(data, length, AR): # Return a shorter dataframe with specified \n",
        "                                                 # length for a specific barrio\n",
        "    last_possible = data.shape[0] - length\n",
        "    random_start = np.random.randint(0, last_possible)\n",
        "    data_sample = data[random_start: random_start+length]\n",
        "    #data_sample = data_sample.loc[:,idx[:,AR]]\n",
        "    data_sample = data_sample[AR]\n",
        "\n",
        "    return data_sample\n",
        "\n",
        "def split_subsample_sequence(data, length, AR): # Return a random sequence of specified length\n",
        "\n",
        "    data_subsample = subsample_sequence(data, length, AR)\n",
        "    y_sample = data_subsample.iloc[length-31:]\n",
        "    \n",
        "    X_sample = data_subsample[0:length-31]\n",
        "    X_sample = X_sample.values\n",
        "    return np.array(X_sample), np.array(y_sample)\n",
        "\n",
        "def get_X_y(data, n_sequences, length, AR): # Return a sepcific number of (X,y) samples of specified length\n",
        "                                                   # for a specified bairro\n",
        "\n",
        "    X, y = [], []\n",
        "\n",
        "    for i in range(n_sequences):\n",
        "        (xi, yi) = split_subsample_sequence(data, length, AR)\n",
        "        X.append(xi)\n",
        "        y.append(yi)\n",
        "        \n",
        "    X = np.array(X)\n",
        "    y = np.array(y)\n",
        "    return X, y\n",
        "\n",
        "def get_train_test(data,n_sequences,length, AR): # Return train and test data\n",
        "\n",
        "    len_ = int(0.8*data.shape[0])\n",
        "    data_train = data[:len_]\n",
        "    data_test = data[len_:]\n",
        "    \n",
        "    test_seq = math.floor(n_sequences/4)\n",
        "    \n",
        "    X_train, y_train = get_X_y(data_train, n_sequences, length, AR)\n",
        "    X_test, y_test = get_X_y(data_test, test_seq, length, AR)\n",
        "    \n",
        "    X_train = X_train.reshape(X_train.shape[0], X_train.shape[1],1)\n",
        "    X_test = X_test.reshape(X_test.shape[0], X_test.shape[1],1)\n",
        "    \n",
        "    return X_train, y_train, X_test, y_test"
      ],
      "metadata": {
        "id": "-9e8hEAgNo3Z"
      },
      "execution_count": 4,
      "outputs": []
    },
    {
      "cell_type": "code",
      "source": [
        "AR_list = preprocessed_data_1000.columns.tolist()\n",
        "all_data = {}\n",
        "\n",
        "for AR in AR_list:\n",
        "  data = get_train_test(preprocessed_data_1000, 2000, 200, AR)\n",
        "  all_data[AR] = data"
      ],
      "metadata": {
        "id": "MBKUwvADNIWf"
      },
      "execution_count": 5,
      "outputs": []
    },
    {
      "cell_type": "code",
      "source": [
        "AR_list"
      ],
      "metadata": {
        "id": "iYQc2ajaNISX"
      },
      "execution_count": null,
      "outputs": []
    },
    {
      "cell_type": "code",
      "source": [
        "len(all_data)"
      ],
      "metadata": {
        "colab": {
          "base_uri": "https://localhost:8080/"
        },
        "id": "jtPNbYE4NIN6",
        "outputId": "188e3f96-fc7b-4f8f-8ea9-b6d1e535eb4b"
      },
      "execution_count": 8,
      "outputs": [
        {
          "output_type": "execute_result",
          "data": {
            "text/plain": [
              "30"
            ]
          },
          "metadata": {},
          "execution_count": 8
        }
      ]
    },
    {
      "cell_type": "code",
      "source": [
        "all_data[\"Anchieta\"][0].shape"
      ],
      "metadata": {
        "colab": {
          "base_uri": "https://localhost:8080/"
        },
        "id": "XGd7jp5VNIIy",
        "outputId": "8c27096b-e827-455a-bc67-2ec3c2ea7ce6"
      },
      "execution_count": 9,
      "outputs": [
        {
          "output_type": "execute_result",
          "data": {
            "text/plain": [
              "(2000, 169, 1)"
            ]
          },
          "metadata": {},
          "execution_count": 9
        }
      ]
    },
    {
      "cell_type": "code",
      "source": [
        "for AR in AR_list:\n",
        "    normalizer = Normalization()\n",
        "    normalizer.adapt(all_data[AR][0])\n",
        "    normalizer.adapt(all_data[AR][2])"
      ],
      "metadata": {
        "id": "_yIzcR3zNIDI"
      },
      "execution_count": 10,
      "outputs": []
    },
    {
      "cell_type": "code",
      "source": [
        "# Creating a model\n",
        "def init_model(AR):\n",
        "    metric = metrics.MAPE\n",
        "    opt = optimizers.RMSprop(learning_rate=0.005)\n",
        "    \n",
        "    model = models.Sequential()\n",
        "    model.add(layers.LSTM(30, return_sequences=True, activation='tanh'))\n",
        "    model.add(layers.LSTM(10, activation='tanh'))\n",
        "    model.add(layers.Dense(5, activation='relu'))\n",
        "    model.add(layers.Dense(31, activation='linear'))\n",
        "    \n",
        "    model.compile(loss='mse', \n",
        "                  optimizer=opt, \n",
        "                  metrics=[metric])\n",
        "    \n",
        "    return model\n",
        "\n",
        "# Parameters\n",
        "# def get_parameters(): \n",
        "es = EarlyStopping(monitor='val_loss', verbose=1, patience=5, restore_best_weights=True)\n",
        "\n",
        "# Fitting the model\n",
        "def fit(model, AR):\n",
        "    hist = model.fit(all_data[AR][0], all_data[AR][1],\n",
        "            validation_split=0.3,\n",
        "            epochs=5, \n",
        "            batch_size=32,\n",
        "            callbacks=[es], verbose=0)\n",
        "    return hist\n",
        "\n",
        "# Evaluating the model \n",
        "def evaluate(hist, AR):\n",
        "    results = hist.model.evaluate(all_data[AR][2], all_data[AR][3])\n",
        "    return results\n",
        "\n",
        "# All-in-1\n",
        "def modelling(AR):\n",
        "    results = evaluate(fit(init_model(AR), AR), AR)\n",
        "    return results"
      ],
      "metadata": {
        "id": "YZTw-jDmNH84"
      },
      "execution_count": 4,
      "outputs": []
    },
    {
      "cell_type": "code",
      "source": [
        "model = init_model('Centro')\n",
        "fitted_model = fit(model, 'Centro')"
      ],
      "metadata": {
        "id": "1bAdUcc4NH1d"
      },
      "execution_count": 14,
      "outputs": []
    },
    {
      "cell_type": "code",
      "source": [
        "results = evaluate(fitted_model, 'Centro')\n",
        "results"
      ],
      "metadata": {
        "colab": {
          "base_uri": "https://localhost:8080/"
        },
        "id": "pX_5E_uiNHrx",
        "outputId": "fab1ab4f-bacb-4573-e0fb-7616dc42c423"
      },
      "execution_count": 15,
      "outputs": [
        {
          "output_type": "stream",
          "name": "stdout",
          "text": [
            "16/16 [==============================] - 1s 33ms/step - loss: 0.8432 - mean_absolute_percentage_error: 44.3881\n"
          ]
        },
        {
          "output_type": "execute_result",
          "data": {
            "text/plain": [
              "[0.8431576490402222, 44.38812255859375]"
            ]
          },
          "metadata": {},
          "execution_count": 15
        }
      ]
    },
    {
      "cell_type": "code",
      "source": [
        ""
      ],
      "metadata": {
        "id": "9CSuiL3YNHgI"
      },
      "execution_count": null,
      "outputs": []
    },
    {
      "cell_type": "code",
      "source": [
        ""
      ],
      "metadata": {
        "id": "JO6ooQasNHRv"
      },
      "execution_count": null,
      "outputs": []
    },
    {
      "cell_type": "code",
      "source": [
        ""
      ],
      "metadata": {
        "id": "IZ6wKxgnNG93"
      },
      "execution_count": null,
      "outputs": []
    },
    {
      "cell_type": "code",
      "source": [
        ""
      ],
      "metadata": {
        "id": "_1Ky35otNF13"
      },
      "execution_count": null,
      "outputs": []
    }
  ]
}